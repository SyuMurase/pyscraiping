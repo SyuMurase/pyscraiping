{
 "cells": [
  {
   "cell_type": "code",
   "execution_count": 19,
   "metadata": {},
   "outputs": [],
   "source": [
    "import json\n",
    "import pandas as pd"
   ]
  },
  {
   "cell_type": "code",
   "execution_count": 20,
   "metadata": {},
   "outputs": [],
   "source": [
    "with open('../../akimoto/0e9bf52be89c7b523eeb11cd9983fca3-asset.json') as f:\n",
    "    result = json.load(f)"
   ]
  },
  {
   "cell_type": "code",
   "execution_count": 21,
   "metadata": {},
   "outputs": [
    {
     "data": {
      "text/plain": [
       "{'asset': {'format': 'jpg',\n",
       "  'id': '0e9bf52be89c7b523eeb11cd9983fca3',\n",
       "  'name': 'akimotomanatu_19.jpg',\n",
       "  'path': 'file:/Users/murasetakashi/Desktop/summerfile/geek/images/akimotomanatu/akimotomanatu_19.jpg',\n",
       "  'size': {'width': 94, 'height': 140},\n",
       "  'state': 2,\n",
       "  'type': 1},\n",
       " 'regions': [{'id': 'g14Wrom8I',\n",
       "   'type': 'RECTANGLE',\n",
       "   'tags': ['akimotomanatu'],\n",
       "   'boundingBox': {'height': 16.766599174816626,\n",
       "    'width': 18.498491575591984,\n",
       "    'left': 27.147128301457197,\n",
       "    'top': 32.06505959657702},\n",
       "   'points': [{'x': 27.147128301457197, 'y': 32.06505959657702},\n",
       "    {'x': 45.645619877049185, 'y': 32.06505959657702},\n",
       "    {'x': 45.645619877049185, 'y': 48.83165877139365},\n",
       "    {'x': 27.147128301457197, 'y': 48.83165877139365}]}],\n",
       " 'version': '2.2.0'}"
      ]
     },
     "execution_count": 21,
     "metadata": {},
     "output_type": "execute_result"
    }
   ],
   "source": [
    "result"
   ]
  },
  {
   "cell_type": "code",
   "execution_count": 22,
   "metadata": {},
   "outputs": [],
   "source": [
    "import numpy as np\n",
    "import matplotlib.pyplot as plt\n",
    "from glob import glob\n",
    "from PIL import Image"
   ]
  },
  {
   "cell_type": "code",
   "execution_count": 23,
   "metadata": {},
   "outputs": [],
   "source": [
    "import numpy as np\n",
    "import matplotlib.pyplot as plt\n",
    "from glob import glob\n",
    "from PIL import Image"
   ]
  },
  {
   "cell_type": "code",
   "execution_count": 24,
   "metadata": {},
   "outputs": [
    {
     "data": {
      "text/plain": [
       "dict_keys(['asset', 'regions', 'version'])"
      ]
     },
     "execution_count": 24,
     "metadata": {},
     "output_type": "execute_result"
    }
   ],
   "source": [
    "result.keys()\n"
   ]
  },
  {
   "cell_type": "code",
   "execution_count": 25,
   "metadata": {},
   "outputs": [
    {
     "data": {
      "text/plain": [
       "dict_keys(['id', 'type', 'tags', 'boundingBox', 'points'])"
      ]
     },
     "execution_count": 25,
     "metadata": {},
     "output_type": "execute_result"
    }
   ],
   "source": [
    "result[\"regions\"][0].keys()"
   ]
  },
  {
   "cell_type": "code",
   "execution_count": 26,
   "metadata": {},
   "outputs": [
    {
     "data": {
      "text/plain": [
       "dict_keys(['height', 'width', 'left', 'top'])"
      ]
     },
     "execution_count": 26,
     "metadata": {},
     "output_type": "execute_result"
    }
   ],
   "source": [
    "result[\"regions\"][0]['boundingBox'].keys()"
   ]
  },
  {
   "cell_type": "code",
   "execution_count": 27,
   "metadata": {},
   "outputs": [
    {
     "data": {
      "text/plain": [
       "dict_values([16.766599174816626, 18.498491575591984, 27.147128301457197, 32.06505959657702])"
      ]
     },
     "execution_count": 27,
     "metadata": {},
     "output_type": "execute_result"
    }
   ],
   "source": [
    "result[\"regions\"][0]['boundingBox'].values()"
   ]
  },
  {
   "cell_type": "code",
   "execution_count": 28,
   "metadata": {},
   "outputs": [
    {
     "data": {
      "text/plain": [
       "18.498491575591984"
      ]
     },
     "execution_count": 28,
     "metadata": {},
     "output_type": "execute_result"
    }
   ],
   "source": [
    "height = result[\"regions\"][0]['boundingBox']['height']\n",
    "#height\n",
    "width = result[\"regions\"][0]['boundingBox']['width']\n",
    "width"
   ]
  },
  {
   "cell_type": "code",
   "execution_count": 29,
   "metadata": {},
   "outputs": [
    {
     "data": {
      "text/plain": [
       "dict_keys(['asset', 'regions', 'version'])"
      ]
     },
     "execution_count": 29,
     "metadata": {},
     "output_type": "execute_result"
    }
   ],
   "source": [
    "result.keys()"
   ]
  },
  {
   "cell_type": "code",
   "execution_count": 30,
   "metadata": {},
   "outputs": [
    {
     "name": "stdout",
     "output_type": "stream",
     "text": [
      "27.147128301457197\n",
      "45.645619877049185\n"
     ]
    }
   ],
   "source": [
    "x1 = result[\"regions\"][0]['points'][0]['x']\n",
    "x2 = result[\"regions\"][0]['points'][1]['x']\n",
    "\n",
    "print(x1)\n",
    "print(x2)\n",
    "\n",
    "x3 = (x1 + x2)/2\n",
    "\n"
   ]
  },
  {
   "cell_type": "code",
   "execution_count": 31,
   "metadata": {},
   "outputs": [
    {
     "name": "stdout",
     "output_type": "stream",
     "text": [
      "32.06505959657702 48.83165877139365\n"
     ]
    },
    {
     "data": {
      "text/plain": [
       "40.44835918398533"
      ]
     },
     "execution_count": 31,
     "metadata": {},
     "output_type": "execute_result"
    }
   ],
   "source": [
    "y1 = result[\"regions\"][0]['points'][0]['y']\n",
    "y2 = result[\"regions\"][0]['points'][2]['y']\n",
    "print(y1,y2)\n",
    "y3 = (y1+y2)/2\n",
    "y3"
   ]
  },
  {
   "cell_type": "code",
   "execution_count": 32,
   "metadata": {},
   "outputs": [],
   "source": [
    "name = result['asset']['name']"
   ]
  },
  {
   "cell_type": "code",
   "execution_count": 33,
   "metadata": {},
   "outputs": [
    {
     "data": {
      "text/plain": [
       "'akimotomanatu_19.jpg'"
      ]
     },
     "execution_count": 33,
     "metadata": {},
     "output_type": "execute_result"
    }
   ],
   "source": [
    "name"
   ]
  },
  {
   "cell_type": "code",
   "execution_count": 34,
   "metadata": {},
   "outputs": [],
   "source": [
    "save_path = './labels/' + name.replace('jpg', 'txt')"
   ]
  },
  {
   "cell_type": "code",
   "execution_count": 35,
   "metadata": {},
   "outputs": [
    {
     "data": {
      "text/plain": [
       "'./labels/akimotomanatu_19.txt'"
      ]
     },
     "execution_count": 35,
     "metadata": {},
     "output_type": "execute_result"
    }
   ],
   "source": [
    "save_path"
   ]
  },
  {
   "cell_type": "code",
   "execution_count": 36,
   "metadata": {},
   "outputs": [],
   "source": [
    "_class = 0\n",
    "with open(f\"{save_path}\", \"w\") as f:\n",
    "        \n",
    "            f.write(\"%d %.06f %.06f %.06f %.06f\\n\" % (_class, x3, y3, width, height))"
   ]
  },
  {
   "cell_type": "code",
   "execution_count": 68,
   "metadata": {},
   "outputs": [
    {
     "data": {
      "text/plain": [
       "48.83165877139365"
      ]
     },
     "execution_count": 68,
     "metadata": {},
     "output_type": "execute_result"
    }
   ],
   "source": []
  },
  {
   "cell_type": "code",
   "execution_count": null,
   "metadata": {},
   "outputs": [],
   "source": []
  }
 ],
 "metadata": {
  "kernelspec": {
   "display_name": "Python 3.10.6 64-bit",
   "language": "python",
   "name": "python3"
  },
  "language_info": {
   "codemirror_mode": {
    "name": "ipython",
    "version": 3
   },
   "file_extension": ".py",
   "mimetype": "text/x-python",
   "name": "python",
   "nbconvert_exporter": "python",
   "pygments_lexer": "ipython3",
   "version": "3.10.6"
  },
  "orig_nbformat": 4,
  "vscode": {
   "interpreter": {
    "hash": "b0fa6594d8f4cbf19f97940f81e996739fb7646882a419484c72d19e05852a7e"
   }
  }
 },
 "nbformat": 4,
 "nbformat_minor": 2
}
